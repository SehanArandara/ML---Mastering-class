{
 "cells": [
  {
   "cell_type": "code",
   "execution_count": 1,
   "id": "e9e47cb4-e2c8-4cfd-8447-9438546c8a75",
   "metadata": {},
   "outputs": [],
   "source": [
    "import pandas as pd"
   ]
  },
  {
   "cell_type": "code",
   "execution_count": 46,
   "id": "d54192ba-6cf0-496e-a2b7-0132faebcaf1",
   "metadata": {},
   "outputs": [],
   "source": [
    "from sklearn.linear_model import LinearRegression\n",
    "from sklearn.feature_selection import RFE ,RFECV\n"
   ]
  },
  {
   "cell_type": "code",
   "execution_count": 5,
   "id": "09611dca-88fe-4a50-8f06-0e056775e0a1",
   "metadata": {},
   "outputs": [
    {
     "data": {
      "text/html": [
       "<div>\n",
       "<style scoped>\n",
       "    .dataframe tbody tr th:only-of-type {\n",
       "        vertical-align: middle;\n",
       "    }\n",
       "\n",
       "    .dataframe tbody tr th {\n",
       "        vertical-align: top;\n",
       "    }\n",
       "\n",
       "    .dataframe thead th {\n",
       "        text-align: right;\n",
       "    }\n",
       "</style>\n",
       "<table border=\"1\" class=\"dataframe\">\n",
       "  <thead>\n",
       "    <tr style=\"text-align: right;\">\n",
       "      <th></th>\n",
       "      <th>crim</th>\n",
       "      <th>zn</th>\n",
       "      <th>indus</th>\n",
       "      <th>chas</th>\n",
       "      <th>nox</th>\n",
       "      <th>rm</th>\n",
       "      <th>age</th>\n",
       "      <th>dis</th>\n",
       "      <th>rad</th>\n",
       "      <th>tax</th>\n",
       "      <th>ptratio</th>\n",
       "      <th>b</th>\n",
       "      <th>lstat</th>\n",
       "      <th>medv</th>\n",
       "    </tr>\n",
       "  </thead>\n",
       "  <tbody>\n",
       "    <tr>\n",
       "      <th>0</th>\n",
       "      <td>0.00632</td>\n",
       "      <td>18.0</td>\n",
       "      <td>2.31</td>\n",
       "      <td>0</td>\n",
       "      <td>0.538</td>\n",
       "      <td>6.575</td>\n",
       "      <td>65.2</td>\n",
       "      <td>4.0900</td>\n",
       "      <td>1</td>\n",
       "      <td>296</td>\n",
       "      <td>15.3</td>\n",
       "      <td>396.90</td>\n",
       "      <td>4.98</td>\n",
       "      <td>24.0</td>\n",
       "    </tr>\n",
       "    <tr>\n",
       "      <th>1</th>\n",
       "      <td>0.02731</td>\n",
       "      <td>0.0</td>\n",
       "      <td>7.07</td>\n",
       "      <td>0</td>\n",
       "      <td>0.469</td>\n",
       "      <td>6.421</td>\n",
       "      <td>78.9</td>\n",
       "      <td>4.9671</td>\n",
       "      <td>2</td>\n",
       "      <td>242</td>\n",
       "      <td>17.8</td>\n",
       "      <td>396.90</td>\n",
       "      <td>9.14</td>\n",
       "      <td>21.6</td>\n",
       "    </tr>\n",
       "    <tr>\n",
       "      <th>2</th>\n",
       "      <td>0.02729</td>\n",
       "      <td>0.0</td>\n",
       "      <td>7.07</td>\n",
       "      <td>0</td>\n",
       "      <td>0.469</td>\n",
       "      <td>7.185</td>\n",
       "      <td>61.1</td>\n",
       "      <td>4.9671</td>\n",
       "      <td>2</td>\n",
       "      <td>242</td>\n",
       "      <td>17.8</td>\n",
       "      <td>392.83</td>\n",
       "      <td>4.03</td>\n",
       "      <td>34.7</td>\n",
       "    </tr>\n",
       "    <tr>\n",
       "      <th>3</th>\n",
       "      <td>0.03237</td>\n",
       "      <td>0.0</td>\n",
       "      <td>2.18</td>\n",
       "      <td>0</td>\n",
       "      <td>0.458</td>\n",
       "      <td>6.998</td>\n",
       "      <td>45.8</td>\n",
       "      <td>6.0622</td>\n",
       "      <td>3</td>\n",
       "      <td>222</td>\n",
       "      <td>18.7</td>\n",
       "      <td>394.63</td>\n",
       "      <td>2.94</td>\n",
       "      <td>33.4</td>\n",
       "    </tr>\n",
       "    <tr>\n",
       "      <th>4</th>\n",
       "      <td>0.06905</td>\n",
       "      <td>0.0</td>\n",
       "      <td>2.18</td>\n",
       "      <td>0</td>\n",
       "      <td>0.458</td>\n",
       "      <td>7.147</td>\n",
       "      <td>54.2</td>\n",
       "      <td>6.0622</td>\n",
       "      <td>3</td>\n",
       "      <td>222</td>\n",
       "      <td>18.7</td>\n",
       "      <td>396.90</td>\n",
       "      <td>5.33</td>\n",
       "      <td>36.2</td>\n",
       "    </tr>\n",
       "  </tbody>\n",
       "</table>\n",
       "</div>"
      ],
      "text/plain": [
       "      crim    zn  indus  chas    nox     rm   age     dis  rad  tax  ptratio  \\\n",
       "0  0.00632  18.0   2.31     0  0.538  6.575  65.2  4.0900    1  296     15.3   \n",
       "1  0.02731   0.0   7.07     0  0.469  6.421  78.9  4.9671    2  242     17.8   \n",
       "2  0.02729   0.0   7.07     0  0.469  7.185  61.1  4.9671    2  242     17.8   \n",
       "3  0.03237   0.0   2.18     0  0.458  6.998  45.8  6.0622    3  222     18.7   \n",
       "4  0.06905   0.0   2.18     0  0.458  7.147  54.2  6.0622    3  222     18.7   \n",
       "\n",
       "        b  lstat  medv  \n",
       "0  396.90   4.98  24.0  \n",
       "1  396.90   9.14  21.6  \n",
       "2  392.83   4.03  34.7  \n",
       "3  394.63   2.94  33.4  \n",
       "4  396.90   5.33  36.2  "
      ]
     },
     "execution_count": 5,
     "metadata": {},
     "output_type": "execute_result"
    }
   ],
   "source": [
    "data =  pd.read_csv('BostonHousing.csv')\n",
    "data.head()"
   ]
  },
  {
   "cell_type": "code",
   "execution_count": 13,
   "id": "e77ae5d2-be14-4666-b5c6-2fb190a34979",
   "metadata": {},
   "outputs": [],
   "source": [
    "x = data.iloc[:,:12]\n",
    "y = data.iloc[:,12]"
   ]
  },
  {
   "cell_type": "code",
   "execution_count": 15,
   "id": "b37b963f-118e-498b-b6e0-851a34000204",
   "metadata": {},
   "outputs": [],
   "source": [
    "model =LinearRegression()"
   ]
  },
  {
   "cell_type": "code",
   "execution_count": 17,
   "id": "e5047626-5b5b-437d-a1d2-2221c8634867",
   "metadata": {},
   "outputs": [],
   "source": [
    "rfe = RFE(estimator=model , n_features_to_select=7)"
   ]
  },
  {
   "cell_type": "code",
   "execution_count": 19,
   "id": "1317972f-2582-4bbb-ac3f-ea01708fe196",
   "metadata": {},
   "outputs": [],
   "source": [
    "result =  rfe.fit(x,y)"
   ]
  },
  {
   "cell_type": "code",
   "execution_count": 23,
   "id": "bbbe9916-1a8e-44fb-aaf2-e8ba6941c554",
   "metadata": {},
   "outputs": [
    {
     "data": {
      "text/plain": [
       "7"
      ]
     },
     "execution_count": 23,
     "metadata": {},
     "output_type": "execute_result"
    }
   ],
   "source": [
    "result.n_features_    #return the number of selected features"
   ]
  },
  {
   "cell_type": "code",
   "execution_count": 25,
   "id": "23692c21-4a41-4ea3-a0bf-b719c741b4b6",
   "metadata": {},
   "outputs": [
    {
     "data": {
      "text/plain": [
       "array([ True, False,  True,  True,  True,  True, False,  True, False,\n",
       "       False,  True, False])"
      ]
     },
     "execution_count": 25,
     "metadata": {},
     "output_type": "execute_result"
    }
   ],
   "source": [
    "result.support_"
   ]
  },
  {
   "cell_type": "code",
   "execution_count": 29,
   "id": "3793fee4-17c4-432d-86bf-9e7ab942bad9",
   "metadata": {},
   "outputs": [
    {
     "data": {
      "text/plain": [
       "Index(['crim', 'indus', 'chas', 'nox', 'rm', 'dis', 'ptratio'], dtype='object')"
      ]
     },
     "execution_count": 29,
     "metadata": {},
     "output_type": "execute_result"
    }
   ],
   "source": [
    "selected = x.columns[result.support_]\n",
    "selected"
   ]
  },
  {
   "cell_type": "code",
   "execution_count": 43,
   "id": "cc04e601-ad55-42ea-a9cf-7eaaf6c59cdd",
   "metadata": {},
   "outputs": [
    {
     "data": {
      "text/plain": [
       "array([[6.3200e-03, 2.3100e+00, 0.0000e+00, ..., 6.5750e+00, 4.0900e+00,\n",
       "        1.5300e+01],\n",
       "       [2.7310e-02, 7.0700e+00, 0.0000e+00, ..., 6.4210e+00, 4.9671e+00,\n",
       "        1.7800e+01],\n",
       "       [2.7290e-02, 7.0700e+00, 0.0000e+00, ..., 7.1850e+00, 4.9671e+00,\n",
       "        1.7800e+01],\n",
       "       ...,\n",
       "       [6.0760e-02, 1.1930e+01, 0.0000e+00, ..., 6.9760e+00, 2.1675e+00,\n",
       "        2.1000e+01],\n",
       "       [1.0959e-01, 1.1930e+01, 0.0000e+00, ..., 6.7940e+00, 2.3889e+00,\n",
       "        2.1000e+01],\n",
       "       [4.7410e-02, 1.1930e+01, 0.0000e+00, ..., 6.0300e+00, 2.5050e+00,\n",
       "        2.1000e+01]])"
      ]
     },
     "execution_count": 43,
     "metadata": {},
     "output_type": "execute_result"
    }
   ],
   "source": [
    "x_new = x[selected]   # return it by using the new selected columns\n",
    "x_new.values    # value returns it in 2D arrays "
   ]
  },
  {
   "cell_type": "markdown",
   "id": "bbd28edf-cdc6-48d1-bccd-1b3d13c1ca7d",
   "metadata": {},
   "source": [
    "## RFECV  - REF cross validation \n",
    "- Key Concepts of RFECV:\n",
    "Recursive Feature Elimination (RFE):\n",
    "\n",
    "Like RFE, RFECV recursively eliminates the least important features based on model performance until it finds the most important subset of features.\n",
    "Cross-Validation:\n",
    "\n",
    "Instead of just eliminating features, RFECV uses cross-validation to evaluate the model’s performance at each step. Cross-validation helps ensure that the model’s performance is not just good on the training set but also generalizes well to unseen data."
   ]
  },
  {
   "cell_type": "code",
   "execution_count": 48,
   "id": "6c74eee5-c543-473b-9cc9-2c34c4fc7886",
   "metadata": {},
   "outputs": [],
   "source": [
    "rfecv  = RFECV(estimator=model,min_features_to_select=1,cv=10)"
   ]
  },
  {
   "cell_type": "code",
   "execution_count": 50,
   "id": "ce3c71d5-d8ff-475b-9b92-69f8ac314cda",
   "metadata": {},
   "outputs": [],
   "source": [
    "res1 = rfecv.fit(x,y)"
   ]
  },
  {
   "cell_type": "code",
   "execution_count": 52,
   "id": "e6713760-96c0-445d-a431-809343a09424",
   "metadata": {},
   "outputs": [
    {
     "data": {
      "text/plain": [
       "array([ True, False,  True,  True,  True,  True,  True,  True, False,\n",
       "       False,  True, False])"
      ]
     },
     "execution_count": 52,
     "metadata": {},
     "output_type": "execute_result"
    }
   ],
   "source": [
    "res1.support_"
   ]
  },
  {
   "cell_type": "code",
   "execution_count": 57,
   "id": "870b6e3c-5397-497a-af56-466cbe5c9e20",
   "metadata": {},
   "outputs": [
    {
     "data": {
      "text/plain": [
       "Index(['crim', 'indus', 'chas', 'nox', 'rm', 'age', 'dis', 'ptratio'], dtype='object')"
      ]
     },
     "execution_count": 57,
     "metadata": {},
     "output_type": "execute_result"
    }
   ],
   "source": [
    "x.columns[res1.support_]"
   ]
  },
  {
   "cell_type": "code",
   "execution_count": 59,
   "id": "356bc4b1-f92d-4130-88cc-4155daa82117",
   "metadata": {},
   "outputs": [
    {
     "data": {
      "text/plain": [
       "array([[6.3200e-03, 2.3100e+00, 0.0000e+00, ..., 6.5200e+01, 4.0900e+00,\n",
       "        1.5300e+01],\n",
       "       [2.7310e-02, 7.0700e+00, 0.0000e+00, ..., 7.8900e+01, 4.9671e+00,\n",
       "        1.7800e+01],\n",
       "       [2.7290e-02, 7.0700e+00, 0.0000e+00, ..., 6.1100e+01, 4.9671e+00,\n",
       "        1.7800e+01],\n",
       "       ...,\n",
       "       [6.0760e-02, 1.1930e+01, 0.0000e+00, ..., 9.1000e+01, 2.1675e+00,\n",
       "        2.1000e+01],\n",
       "       [1.0959e-01, 1.1930e+01, 0.0000e+00, ..., 8.9300e+01, 2.3889e+00,\n",
       "        2.1000e+01],\n",
       "       [4.7410e-02, 1.1930e+01, 0.0000e+00, ..., 8.0800e+01, 2.5050e+00,\n",
       "        2.1000e+01]])"
      ]
     },
     "execution_count": 59,
     "metadata": {},
     "output_type": "execute_result"
    }
   ],
   "source": [
    "x[x.columns[res1.support_]].values"
   ]
  },
  {
   "cell_type": "code",
   "execution_count": 65,
   "id": "33528537-cdec-4c60-b181-4e87295b1474",
   "metadata": {},
   "outputs": [],
   "source": [
    "x_new2 = rfecv.fit_transform(x,y)    # return directly the selected 2D array"
   ]
  },
  {
   "cell_type": "code",
   "execution_count": 63,
   "id": "9a7bc007-b143-4b63-b8b3-daa6fac248cf",
   "metadata": {},
   "outputs": [
    {
     "data": {
      "text/plain": [
       "array([[6.3200e-03, 2.3100e+00, 0.0000e+00, ..., 6.5200e+01, 4.0900e+00,\n",
       "        1.5300e+01],\n",
       "       [2.7310e-02, 7.0700e+00, 0.0000e+00, ..., 7.8900e+01, 4.9671e+00,\n",
       "        1.7800e+01],\n",
       "       [2.7290e-02, 7.0700e+00, 0.0000e+00, ..., 6.1100e+01, 4.9671e+00,\n",
       "        1.7800e+01],\n",
       "       ...,\n",
       "       [6.0760e-02, 1.1930e+01, 0.0000e+00, ..., 9.1000e+01, 2.1675e+00,\n",
       "        2.1000e+01],\n",
       "       [1.0959e-01, 1.1930e+01, 0.0000e+00, ..., 8.9300e+01, 2.3889e+00,\n",
       "        2.1000e+01],\n",
       "       [4.7410e-02, 1.1930e+01, 0.0000e+00, ..., 8.0800e+01, 2.5050e+00,\n",
       "        2.1000e+01]])"
      ]
     },
     "execution_count": 63,
     "metadata": {},
     "output_type": "execute_result"
    }
   ],
   "source": [
    "x_new2"
   ]
  },
  {
   "cell_type": "code",
   "execution_count": null,
   "id": "8c7c13cb-085b-40ee-a9b3-7113542a3566",
   "metadata": {},
   "outputs": [],
   "source": []
  }
 ],
 "metadata": {
  "kernelspec": {
   "display_name": "Python 3 (ipykernel)",
   "language": "python",
   "name": "python3"
  },
  "language_info": {
   "codemirror_mode": {
    "name": "ipython",
    "version": 3
   },
   "file_extension": ".py",
   "mimetype": "text/x-python",
   "name": "python",
   "nbconvert_exporter": "python",
   "pygments_lexer": "ipython3",
   "version": "3.12.4"
  }
 },
 "nbformat": 4,
 "nbformat_minor": 5
}
