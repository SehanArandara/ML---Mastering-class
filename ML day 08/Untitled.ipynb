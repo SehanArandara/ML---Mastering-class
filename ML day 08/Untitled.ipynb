{
 "cells": [
  {
   "cell_type": "markdown",
   "id": "da3993a3-a7d5-4934-881e-525ebaf82b5f",
   "metadata": {},
   "source": [
    "## Array continue \n"
   ]
  },
  {
   "cell_type": "code",
   "execution_count": 2,
   "id": "4549607c-05d1-4c2f-b5ef-3444e5f3b3c4",
   "metadata": {},
   "outputs": [
    {
     "data": {
      "text/plain": [
       "12"
      ]
     },
     "execution_count": 2,
     "metadata": {},
     "output_type": "execute_result"
    }
   ],
   "source": [
    "import numpy as np\n",
    "\n",
    "a= np.array([12,23,45,76,54,89,0,100,-8,60,56])\n",
    "a[0]"
   ]
  },
  {
   "cell_type": "code",
   "execution_count": 4,
   "id": "b3110c29-80b3-4c17-82a4-294fda1ff6c5",
   "metadata": {},
   "outputs": [
    {
     "data": {
      "text/plain": [
       "45"
      ]
     },
     "execution_count": 4,
     "metadata": {},
     "output_type": "execute_result"
    }
   ],
   "source": [
    "a[2]"
   ]
  },
  {
   "cell_type": "code",
   "execution_count": 6,
   "id": "f7336a3b-d3cd-4c87-aab9-cbd5d5f6f3a5",
   "metadata": {},
   "outputs": [
    {
     "data": {
      "text/plain": [
       "array([45, 76, 54])"
      ]
     },
     "execution_count": 6,
     "metadata": {},
     "output_type": "execute_result"
    }
   ],
   "source": [
    "a[2:5]"
   ]
  },
  {
   "cell_type": "code",
   "execution_count": 8,
   "id": "23ed2f71-8c09-4775-a7f7-7e06ded01b79",
   "metadata": {},
   "outputs": [
    {
     "data": {
      "text/plain": [
       "array([12, 23, 45, 76, 54])"
      ]
     },
     "execution_count": 8,
     "metadata": {},
     "output_type": "execute_result"
    }
   ],
   "source": [
    "a[:5]"
   ]
  },
  {
   "cell_type": "code",
   "execution_count": 4,
   "id": "b8de3104-efa2-4060-a992-e69fa2bb93c9",
   "metadata": {},
   "outputs": [
    {
     "data": {
      "text/plain": [
       "array([ 89,   0, 100,  -8,  60,  56])"
      ]
     },
     "execution_count": 4,
     "metadata": {},
     "output_type": "execute_result"
    }
   ],
   "source": [
    "a[5:]"
   ]
  },
  {
   "cell_type": "code",
   "execution_count": 20,
   "id": "9265f70d-2ff2-4387-9675-6185bbd7bd07",
   "metadata": {},
   "outputs": [
    {
     "data": {
      "text/plain": [
       "array([[21, 45, 67, 44],\n",
       "       [78, 66, 56, 78],\n",
       "       [44, 67, 43, 78],\n",
       "       [44, 67, 43, 78]])"
      ]
     },
     "execution_count": 20,
     "metadata": {},
     "output_type": "execute_result"
    }
   ],
   "source": [
    "arr2D = np.array([[21,45,67,44],[78,66,56,78],[44,67,43,78],[44,67,43,78]])\n",
    "arr2D"
   ]
  },
  {
   "cell_type": "code",
   "execution_count": 22,
   "id": "12d039ef-2552-4f38-a2af-4184f6a14413",
   "metadata": {},
   "outputs": [
    {
     "name": "stdout",
     "output_type": "stream",
     "text": [
      "(4, 4)\n"
     ]
    }
   ],
   "source": [
    "arr2D[1,2]\n",
    "print(arr2D.shape)"
   ]
  },
  {
   "cell_type": "code",
   "execution_count": 24,
   "id": "b08b13cd-f5d9-4bc1-b2e5-adc34057759b",
   "metadata": {},
   "outputs": [
    {
     "data": {
      "text/plain": [
       "array([[66, 56],\n",
       "       [67, 43]])"
      ]
     },
     "execution_count": 24,
     "metadata": {},
     "output_type": "execute_result"
    }
   ],
   "source": [
    "arr2D[1:3,1:3]"
   ]
  },
  {
   "cell_type": "code",
   "execution_count": 26,
   "id": "6a32dffb-b198-4144-94bd-716bfb30571f",
   "metadata": {},
   "outputs": [
    {
     "name": "stdout",
     "output_type": "stream",
     "text": [
      "[187 245 209 278]\n"
     ]
    }
   ],
   "source": [
    "print(sum(arr2D))    # return the sum of the every raw"
   ]
  },
  {
   "cell_type": "code",
   "execution_count": 30,
   "id": "f6379725-85d6-4687-a152-e1e48c65a728",
   "metadata": {},
   "outputs": [
    {
     "name": "stdout",
     "output_type": "stream",
     "text": [
      "[[ 42  90 134  88]\n",
      " [156 132 112 156]\n",
      " [ 88 134  86 156]\n",
      " [ 88 134  86 156]]\n"
     ]
    }
   ],
   "source": [
    "print(arr2D*2)   # multiply every element by 2 "
   ]
  },
  {
   "cell_type": "code",
   "execution_count": null,
   "id": "a3ea4f51-9077-4cdf-badf-53451ad443dc",
   "metadata": {},
   "outputs": [],
   "source": []
  }
 ],
 "metadata": {
  "kernelspec": {
   "display_name": "Python 3 (ipykernel)",
   "language": "python",
   "name": "python3"
  },
  "language_info": {
   "codemirror_mode": {
    "name": "ipython",
    "version": 3
   },
   "file_extension": ".py",
   "mimetype": "text/x-python",
   "name": "python",
   "nbconvert_exporter": "python",
   "pygments_lexer": "ipython3",
   "version": "3.12.4"
  }
 },
 "nbformat": 4,
 "nbformat_minor": 5
}
