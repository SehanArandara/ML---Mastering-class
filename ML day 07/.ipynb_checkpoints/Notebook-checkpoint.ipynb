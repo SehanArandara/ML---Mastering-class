{
 "cells": [
  {
   "cell_type": "markdown",
   "id": "fbc35990-86e5-42ec-95f7-ab3ee4098f69",
   "metadata": {},
   "source": [
    "## numpy library \n",
    "\n",
    "- this library is using for calculating and doing some mathematical things "
   ]
  },
  {
   "cell_type": "code",
   "execution_count": 4,
   "id": "7af1d499-7cc2-4f7e-a04f-f538fab3f09d",
   "metadata": {},
   "outputs": [
    {
     "data": {
      "text/plain": [
       "2.0"
      ]
     },
     "execution_count": 4,
     "metadata": {},
     "output_type": "execute_result"
    }
   ],
   "source": [
    "import numpy as np\n",
    "\n",
    "np.sqrt(4)\n"
   ]
  },
  {
   "cell_type": "code",
   "execution_count": 10,
   "id": "6ddc83c2-f99c-401c-9e21-84836c854f6c",
   "metadata": {},
   "outputs": [
    {
     "data": {
      "text/plain": [
       "1024"
      ]
     },
     "execution_count": 10,
     "metadata": {},
     "output_type": "execute_result"
    }
   ],
   "source": [
    "np.power(4,5)"
   ]
  },
  {
   "cell_type": "code",
   "execution_count": 14,
   "id": "79aa725a-79e0-477e-9d0b-165226070a4a",
   "metadata": {},
   "outputs": [
    {
     "data": {
      "text/plain": [
       "4.0"
      ]
     },
     "execution_count": 14,
     "metadata": {},
     "output_type": "execute_result"
    }
   ],
   "source": [
    "np.round(3.76)    ## round off nearest integer"
   ]
  },
  {
   "cell_type": "code",
   "execution_count": 20,
   "id": "d1e47d52-7f71-4f24-9518-5e927cccac65",
   "metadata": {},
   "outputs": [
    {
     "data": {
      "text/plain": [
       "-0.8011526357338304"
      ]
     },
     "execution_count": 20,
     "metadata": {},
     "output_type": "execute_result"
    }
   ],
   "source": [
    "np.sin(180)    # angles are in rad value"
   ]
  },
  {
   "cell_type": "code",
   "execution_count": 22,
   "id": "dea2cbe0-9cd6-4960-8c1e-c33ebeba17cd",
   "metadata": {},
   "outputs": [
    {
     "data": {
      "text/plain": [
       "0.5403023058681398"
      ]
     },
     "execution_count": 22,
     "metadata": {},
     "output_type": "execute_result"
    }
   ],
   "source": [
    "np.cos(1)"
   ]
  },
  {
   "cell_type": "code",
   "execution_count": 24,
   "id": "6b8e8686-e9d1-45c8-b722-193b17af959b",
   "metadata": {},
   "outputs": [
    {
     "data": {
      "text/plain": [
       "-0.1425465430742778"
      ]
     },
     "execution_count": 24,
     "metadata": {},
     "output_type": "execute_result"
    }
   ],
   "source": [
    "np.tan(3)"
   ]
  },
  {
   "cell_type": "code",
   "execution_count": 26,
   "id": "01c0e518-457e-46fa-af96-2d00de8ec82d",
   "metadata": {},
   "outputs": [
    {
     "data": {
      "text/plain": [
       "4.605170185988092"
      ]
     },
     "execution_count": 26,
     "metadata": {},
     "output_type": "execute_result"
    }
   ],
   "source": [
    "np.log(100)"
   ]
  },
  {
   "cell_type": "markdown",
   "id": "c43bafee-1a94-4dd7-9fe3-68aea358dbd7",
   "metadata": {},
   "source": [
    "## Array using the numpy lib\n"
   ]
  },
  {
   "cell_type": "code",
   "execution_count": 6,
   "id": "52c582aa-bec3-4fdc-aa43-efc4e740276a",
   "metadata": {},
   "outputs": [
    {
     "data": {
      "text/plain": [
       "array([10, 20, 30, 40])"
      ]
     },
     "execution_count": 6,
     "metadata": {},
     "output_type": "execute_result"
    }
   ],
   "source": [
    "L = [10,20,30,40]\n",
    "np.array(L)"
   ]
  },
  {
   "cell_type": "code",
   "execution_count": 8,
   "id": "882cc552-7cd2-4c91-bf9a-c7715f6e511c",
   "metadata": {},
   "outputs": [
    {
     "name": "stdout",
     "output_type": "stream",
     "text": [
      "[50 50 60 70]\n"
     ]
    }
   ],
   "source": [
    "R=np.array([50,50,60,70])     # one dimenational array \n",
    "print(R)"
   ]
  },
  {
   "cell_type": "code",
   "execution_count": 10,
   "id": "1cbcf843-b79e-4af3-85ec-c5822213b29d",
   "metadata": {},
   "outputs": [
    {
     "name": "stdout",
     "output_type": "stream",
     "text": [
      "[[10 20]\n",
      " [30 40]\n",
      " [70 80]]\n"
     ]
    }
   ],
   "source": [
    "DDA =  np.array([[10,20],[30,40],[70,80]])    ## two dimnetional Array \n",
    "print(DDA)"
   ]
  },
  {
   "cell_type": "code",
   "execution_count": 12,
   "id": "f1614bc5-cfdd-48f0-81a4-d3a13b70e518",
   "metadata": {},
   "outputs": [
    {
     "name": "stdout",
     "output_type": "stream",
     "text": [
      "(3, 2)\n"
     ]
    }
   ],
   "source": [
    "print(DDA.shape)"
   ]
  },
  {
   "cell_type": "code",
   "execution_count": null,
   "id": "26e866d7-9358-4ab4-9f58-f96b4286de90",
   "metadata": {},
   "outputs": [],
   "source": []
  }
 ],
 "metadata": {
  "kernelspec": {
   "display_name": "Python 3 (ipykernel)",
   "language": "python",
   "name": "python3"
  },
  "language_info": {
   "codemirror_mode": {
    "name": "ipython",
    "version": 3
   },
   "file_extension": ".py",
   "mimetype": "text/x-python",
   "name": "python",
   "nbconvert_exporter": "python",
   "pygments_lexer": "ipython3",
   "version": "3.12.4"
  }
 },
 "nbformat": 4,
 "nbformat_minor": 5
}
